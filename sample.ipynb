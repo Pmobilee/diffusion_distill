{
 "cells": [
  {
   "cell_type": "code",
   "execution_count": 11,
   "metadata": {},
   "outputs": [],
   "source": [
    "from v_diffusion import *\n",
    "import torch\n",
    "from torchvision.utils import save_image\n",
    "\n",
    "model = UNet(\n",
    "    in_channels=3,\n",
    "    hid_channels=64,\n",
    "    out_channels=6,\n",
    "    ch_multipliers=[1, 2, 3, 4],\n",
    "    num_res_blocks=2,\n",
    "    apply_attn=[False, True, True, True],\n",
    "    drop_rate=0.2,\n",
    "    #num_classes=10\n",
    ")\n",
    "\n",
    "device = \"cuda:0\"\n",
    "chkpt = torch.load(\"chkpts/vdpm_lsun_2.pt\", map_location=device)[\"ema\"][\"shadow\"]\n",
    "model.to(device)\n",
    "for k in list(chkpt.keys()):\n",
    "    if k.startswith(\"module.\"):\n",
    "        chkpt[k.split(\".\", maxsplit=1)[1]] = chkpt.pop(k)\n",
    "model.load_state_dict(chkpt)\n",
    "model.eval()\n",
    "model.requires_grad_(False)\n",
    "del chkpt\n",
    "\n",
    "logsnr_fn = get_logsnr_schedule(\"cosine\", -20, 20)\n",
    "diffusion = GaussianDiffusion(\n",
    "    logsnr_fn,\n",
    "    sample_timesteps=128,\n",
    "    model_out_type=\"both\",\n",
    "    model_var_type=\"fixed_large\",\n",
    "    reweight_type=\"truncated_snr\",\n",
    "    loss_type=\"mse\",\n",
    "    w_guide=0.1,\n",
    "    p_uncond=0.1)\n"
   ]
  },
  {
   "cell_type": "code",
   "execution_count": 26,
   "metadata": {},
   "outputs": [],
   "source": [
    "\n",
    "ws = [3]\n",
    "# torch.manual_seed(1234)\n",
    "noise = torch.randn((1, 3, 64, 64)).to(device)\n",
    "\n",
    "for w in ws:\n",
    "    diffusion.w_guide = w\n",
    "\n",
    "    x_gen = diffusion.p_sample(\n",
    "        model, (1, 3, 64, 64), device=device,\n",
    "        noise=noise,\n",
    "        # label=torch.arange(\n",
    "        #     1, 11, device=device, dtype=torch.float32).repeat_interleave(10),\n",
    "        # label=torch.tensor(\n",
    "        #     0, device=device, dtype=torch.float32),\n",
    "        label=None,\n",
    "        use_ddim=True)\n",
    "\n",
    "    save_image(\n",
    "        x_gen.cpu(),\n",
    "        f\"./cifar10_w{w}.png\",\n",
    "        nrow=1,\n",
    "        normalize=True,\n",
    "        value_range=(-1, 1)\n",
    "    )"
   ]
  }
 ],
 "metadata": {
  "kernelspec": {
   "display_name": "dist",
   "language": "python",
   "name": "python3"
  },
  "language_info": {
   "codemirror_mode": {
    "name": "ipython",
    "version": 3
   },
   "file_extension": ".py",
   "mimetype": "text/x-python",
   "name": "python",
   "nbconvert_exporter": "python",
   "pygments_lexer": "ipython3",
   "version": "3.11.4"
  },
  "orig_nbformat": 4
 },
 "nbformat": 4,
 "nbformat_minor": 2
}
